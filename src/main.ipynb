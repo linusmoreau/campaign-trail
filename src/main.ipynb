{
 "cells": [
  {
   "cell_type": "markdown",
   "id": "2197b08b",
   "metadata": {},
   "source": [
    "### Image Processing\n",
    "Processes portraits and other portraits into JPEG format with correct aspect ratio."
   ]
  },
  {
   "cell_type": "code",
   "execution_count": null,
   "id": "7cd76352",
   "metadata": {},
   "outputs": [],
   "source": [
    "import os\n",
    "from PIL import Image\n",
    "import pillow_avif # type: ignore necessary for PIL to handle avif files\n",
    "\n",
    "PORTRAITS_DIR = os.path.join(os.pardir, \"portraits\")\n",
    "IMAGES_DIR = os.path.join(os.pardir, \"images\")\n",
    "PROCESSED_DIR = os.path.join(os.pardir, \"processed\")\n",
    "if not os.path.exists(PROCESSED_DIR):\n",
    "    os.makedirs(PROCESSED_DIR)\n",
    "\n",
    "\n",
    "def process(f, crop=False, ratio=7/8):\n",
    "    img = Image.open(f) \n",
    "    if crop:\n",
    "        w, h = img.size\n",
    "        new_width = h * ratio\n",
    "        margin = round((w - new_width) / 2)\n",
    "        left = margin\n",
    "        right = w - margin\n",
    "        img = img.crop((left, 0, right, h))\n",
    "    if img.mode != \"RGB\":\n",
    "        img = img.convert(\"RGB\")\n",
    "    jpg = os.path.splitext(os.path.split(f)[-1])[0] + \".jpg\"\n",
    "    img.save(os.path.join(PROCESSED_DIR, jpg))\n",
    "\n",
    "\n",
    "for f in os.listdir(PORTRAITS_DIR):\n",
    "    process(os.path.join(PORTRAITS_DIR, f), crop=True, ratio=7/8)\n",
    "for f in os.listdir(IMAGES_DIR):\n",
    "    process(os.path.join(IMAGES_DIR, f), crop=False)\n",
    "    \n"
   ]
  }
 ],
 "metadata": {
  "kernelspec": {
   "display_name": "Python 3",
   "language": "python",
   "name": "python3"
  },
  "language_info": {
   "codemirror_mode": {
    "name": "ipython",
    "version": 3
   },
   "file_extension": ".py",
   "mimetype": "text/x-python",
   "name": "python",
   "nbconvert_exporter": "python",
   "pygments_lexer": "ipython3",
   "version": "3.13.2"
  }
 },
 "nbformat": 4,
 "nbformat_minor": 5
}
