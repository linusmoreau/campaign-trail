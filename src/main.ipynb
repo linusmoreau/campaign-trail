{
 "cells": [
  {
   "cell_type": "markdown",
   "id": "2197b08b",
   "metadata": {},
   "source": [
    "### Image Processing\n",
    "Processes portraits and other portraits into JPEG format with correct aspect ratio. These are then uploaded to cloud image hosting (e.g. Imgur) to enable reliable network access."
   ]
  },
  {
   "cell_type": "code",
   "execution_count": null,
   "id": "7cd76352",
   "metadata": {},
   "outputs": [],
   "source": [
    "import os\n",
    "from PIL import Image\n",
    "import pillow_avif # type: ignore necessary for PIL to handle avif files\n",
    "\n",
    "PORTRAITS_DIR = os.path.join(os.pardir, \"portraits\")\n",
    "IMAGES_DIR = os.path.join(os.pardir, \"images\")\n",
    "PROCESSED_DIR = os.path.join(os.pardir, \"processed\")\n",
    "if not os.path.exists(PROCESSED_DIR):\n",
    "    os.makedirs(PROCESSED_DIR)\n",
    "\n",
    "\n",
    "def process(f, crop=False, ratio=7/8):\n",
    "    img = Image.open(f) \n",
    "    if crop:\n",
    "        w, h = img.size\n",
    "        new_width = h * ratio\n",
    "        margin = round((w - new_width) / 2)\n",
    "        left = margin\n",
    "        right = w - margin\n",
    "        img = img.crop((left, 0, right, h))\n",
    "    if img.mode != \"RGB\":\n",
    "        img = img.convert(\"RGB\")\n",
    "    jpg = os.path.splitext(os.path.split(f)[-1])[0] + \".jpg\"\n",
    "    img.save(os.path.join(PROCESSED_DIR, jpg))\n",
    "\n",
    "for f in os.listdir(PORTRAITS_DIR):\n",
    "    process(os.path.join(PORTRAITS_DIR, f), crop=True, ratio=7/8)\n",
    "for f in os.listdir(IMAGES_DIR):\n",
    "    process(os.path.join(IMAGES_DIR, f), crop=False)"
   ]
  },
  {
   "cell_type": "markdown",
   "id": "581252c4",
   "metadata": {},
   "source": [
    "### Generate Code 2"
   ]
  },
  {
   "cell_type": "code",
   "execution_count": 1,
   "id": "679df8b5",
   "metadata": {},
   "outputs": [],
   "source": [
    "import os\n",
    "\n",
    "# Manually set the appriorate scenario name\n",
    "SCENARIO_NAME = \"2025_LiberalCarney\"\n",
    "SCENARIO_DIR = os.path.join(os.pardir, SCENARIO_NAME)\n",
    "\n",
    "mapping_code_1 = \"\"\"(function(e,t,n,r,i){function s(e,t,n,r){r=r instanceof Array?r:[];var i={};for(var s=0;s<r.length;s++){i[r[s]]=true}var o=function(e){this.element=e};o.prototype=n;e.fn[t]=function(){var n=arguments;var r=this;this.each(function(){var s=e(this);var u=s.data(\"plugin-\"+t);if(!u){u=new o(s);s.data(\"plugin-\"+t,u);if(u._init){u._init.apply(u,n)}}else if(typeof n[0]==\"string\"&&n[0].charAt(0)!=\"_\"&&typeof u[n[0]]==\"function\"){var a=Array.prototype.slice.call(n,1);var f=u[n[0]].apply(u,a);if(n[0]in i){r=f}}});return r}}var o=370,u=215,a=10;var f={stateStyles:{fill:\"#333\",stroke:\"#666\",\"stroke-width\":1,\"stroke-linejoin\":\"round\",scale:[1,1]},stateHoverStyles:{fill:\"#33c\",stroke:\"#000\",scale:[1.1,1.1]},stateHoverAnimation:500,stateSpecificStyles:{},stateSpecificHoverStyles:{},click:null,mouseover:null,mouseout:null,clickState:{},mouseoverState:{},mouseoutState:{},showLabels:true,labelWidth:20,labelHeight:15,labelGap:6,labelRadius:3,labelBackingStyles:{fill:\"#333\",stroke:\"#666\",\"stroke-width\":1,\"stroke-linejoin\":\"round\",scale:[1,1]},labelBackingHoverStyles:{fill:\"#33c\",stroke:\"#000\"},stateSpecificLabelBackingStyles:{},stateSpecificLabelBackingHoverStyles:{},labelTextStyles:{fill:\"#fff\",stroke:\"none\",\"font-weight\":300,\"stroke-width\":0,\"font-size\":\"10px\"},labelTextHoverStyles:{},stateSpecificLabelTextStyles:{},stateSpecificLabelTextHoverStyles:{}};var l={_init:function(t){this.options={};e.extend(this.options,f,t);var n=this.element.width();var i=this.element.height();var s=this.element.width()/o;var l=this.element.height()/u;this.scale=Math.min(s,l);this.labelAreaWidth=Math.ceil(a/this.scale);var c=o+Math.max(0,this.labelAreaWidth-a);this.paper=r(this.element.get(0),c,u);this.paper.setSize(n,i);this.paper.setViewBox(-130, -1, 600, 600, false);this.stateHitAreas={};this.stateShapes={};this.topShape=null;this._initCreateStates();this.labelShapes={};this.labelTexts={};this.labelHitAreas={};if(this.options.showLabels){this._initCreateLabels()}},_initCreateStates:function(){var t=this.options.stateStyles;var n=this.paper;var r=\"\"\"\n",
    "mapping_code_2 = \"\"\";var i={};for(var s in r){i={};if(this.options.stateSpecificStyles[s]){e.extend(i,t,this.options.stateSpecificStyles[s])}else{i=t}this.stateShapes[s]=n.path(r[s]).attr(i);this.topShape=this.stateShapes[s];this.stateHitAreas[s]=n.path(r[s]).attr({fill:\"#000\",\"stroke-width\":0,opacity:0,cursor:\"pointer\"});this.stateHitAreas[s].node.dataState=s}this._onClickProxy=e.proxy(this,\"_onClick\");this._onMouseOverProxy=e.proxy(this,\"_onMouseOver\"),this._onMouseOutProxy=e.proxy(this,\"_onMouseOut\");for(var s in this.stateHitAreas){this.stateHitAreas[s].toFront();e(this.stateHitAreas[s].node).bind(\"mouseout\",this._onMouseOutProxy);e(this.stateHitAreas[s].node).bind(\"click\",this._onClickProxy);e(this.stateHitAreas[s].node).bind(\"mouseover\",this._onMouseOverProxy)}},_initCreateLabels:function(){var t=this.paper;var n=[];var r=860;var i=220;var s=this.options.labelWidth;var o=this.options.labelHeight;var u=this.options.labelGap;var a=this.options.labelRadius;var f=s/this.scale;var l=o/this.scale;var c=(s+u)/this.scale;var h=(o+u)/this.scale*.5;var p=a/this.scale;var d=this.options.labelBackingStyles;var v=this.options.labelTextStyles;var m={};for(var g=0,y,b,w;g<n.length;++g){w=n[g];y=(g+1)%2*c+r;b=g*h+i;m={};if(this.options.stateSpecificLabelBackingStyles[w]){e.extend(m,d,this.options.stateSpecificLabelBackingStyles[w])}else{m=d}this.labelShapes[w]=t.rect(y,b,f,l,p).attr(m);m={};if(this.options.stateSpecificLabelTextStyles[w]){e.extend(m,v,this.options.stateSpecificLabelTextStyles[w])}else{e.extend(m,v)}if(m[\"font-size\"]){m[\"font-size\"]=parseInt(m[\"font-size\"])/this.scale+\"px\"}this.labelTexts[w]=t.text(y+f/2,b+l/2,w).attr(m);this.labelHitAreas[w]=t.rect(y,b,f,l,p).attr({fill:\"#000\",\"stroke-width\":0,opacity:0,cursor:\"pointer\"});this.labelHitAreas[w].node.dataState=w}for(var w in this.labelHitAreas){this.labelHitAreas[w].toFront();e(this.labelHitAreas[w].node).bind(\"mouseout\",this._onMouseOutProxy);e(this.labelHitAreas[w].node).bind(\"click\",this._onClickProxy);e(this.labelHitAreas[w].node).bind(\"mouseover\",this._onMouseOverProxy)}},_getStateFromEvent:function(e){var t=e.target&&e.target.dataState||e.dataState;return this._getState(t)},_getState:function(e){var t=this.stateShapes[e];var n=this.stateHitAreas[e];var r=this.labelShapes[e];var i=this.labelTexts[e];var s=this.labelHitAreas[e];return{shape:t,hitArea:n,name:e,labelBacking:r,labelText:i,labelHitArea:s}},_onMouseOut:function(e){var t=this._getStateFromEvent(e);if(!t.hitArea){return}return!this._triggerEvent(\"mouseout\",e,t)},_defaultMouseOutAction:function(t){var n={};if(this.options.stateSpecificStyles[t.name]){e.extend(n,this.options.stateStyles,this.options.stateSpecificStyles[t.name])}else{n=this.options.stateStyles}t.shape.animate(n,this.options.stateHoverAnimation);if(t.labelBacking){var n={};if(this.options.stateSpecificLabelBackingStyles[t.name]){e.extend(n,this.options.labelBackingStyles,this.options.stateSpecificLabelBackingStyles[t.name])}else{n=this.options.labelBackingStyles}t.labelBacking.animate(n,this.options.stateHoverAnimation)}},_onClick:function(e){var t=this._getStateFromEvent(e);if(!t.hitArea){return}return!this._triggerEvent(\"click\",e,t)},_onMouseOver:function(e){var t=this._getStateFromEvent(e);if(!t.hitArea){return}return!this._triggerEvent(\"mouseover\",e,t)},_defaultMouseOverAction:function(t){this.bringShapeToFront(t.shape);this.paper.safari();var n={};if(this.options.stateSpecificHoverStyles[t.name]){e.extend(n,this.options.stateHoverStyles,this.options.stateSpecificHoverStyles[t.name])}else{n=this.options.stateHoverStyles}t.shape.animate(n,this.options.stateHoverAnimation);if(t.labelBacking){var n={};if(this.options.stateSpecificLabelBackingHoverStyles[t.name]){e.extend(n,this.options.labelBackingHoverStyles,this.options.stateSpecificLabelBackingHoverStyles[t.name])}else{n=this.options.labelBackingHoverStyles}t.labelBacking.animate(n,this.options.stateHoverAnimation)}},_triggerEvent:function(t,n,r){var i=r.name;var s=false;var o=e.Event(\"usmap\"+t+i);o.originalEvent=n;if(this.options[t+\"State\"][i]){s=this.options[t+\"State\"][i](o,r)===false}if(o.isPropagationStopped()){this.element.trigger(o,[r]);s=s||o.isDefaultPrevented()}if(!o.isPropagationStopped()){var u=e.Event(\"usmap\"+t);u.originalEvent=n;if(this.options[t]){s=this.options[t](u,r)===false||s}if(!u.isPropagationStopped()){this.element.trigger(u,[r]);s=s||u.isDefaultPrevented()}}if(!s){switch(t){case\"mouseover\":this._defaultMouseOverAction(r);break;case\"mouseout\":this._defaultMouseOutAction(r);break}}return!s},trigger:function(e,t,n){t=t.replace(\"usmap\",\"\");e=e.toUpperCase();var r=this._getState(e);this._triggerEvent(t,n,r)},bringShapeToFront:function(e){if(this.topShape){e.insertAfter(this.topShape)}this.topShape=e}};var c=[];s(e,\"usmap\",l,c)})(jQuery,document,window,Raphael)\"\"\"\n",
    "complete_map_csv = \"{}\"\n",
    "\n",
    "section_variable_names = [\n",
    "    \"questions_json\",\n",
    "    \"answers_json\",\n",
    "    \"states_json\",\n",
    "    \"issues_json\",\n",
    "    \"state_issue_score_json\",\n",
    "    \"candidate_issue_score_json\",\n",
    "    \"running_mate_issue_score_json\",\n",
    "    \"candidate_state_multiplier_json\",\n",
    "    \"answer_score_global_json\",\n",
    "    \"answer_score_issue_json\",\n",
    "    \"answer_score_state_json\",\n",
    "    \"answer_feedback_json\",\n",
    "]   \n",
    "\n",
    "sections = [mapping_code_1 + complete_map_csv + mapping_code_2]\n",
    "for section in section_variable_names:\n",
    "    section_name = section[:-5]\n",
    "    section_filename = section_name + \".json\"\n",
    "    filepath = os.path.join(SCENARIO_DIR, section_filename)\n",
    "    declaration = \"campaignTrail_temp.\" + section + \" = \"\n",
    "    try:\n",
    "        with open(filepath, \"r\") as f:\n",
    "            s = declaration + f.read().strip()\n",
    "    except FileNotFoundError:\n",
    "        s = declaration + \"[]\"\n",
    "    finally:\n",
    "        sections.append(s)\n",
    "end_code_filepath = os.path.join(SCENARIO_DIR, \"end_code.txt\")\n",
    "with open(end_code_filepath, \"r\") as f:\n",
    "    sections.append(f.read())\n",
    "\n",
    "code2 = \"\\n\\n\".join(sections) + \"\\n\"\n",
    "\n",
    "output_filepath = os.path.join(SCENARIO_DIR, SCENARIO_NAME + \".html\")\n",
    "with open(output_filepath, \"w\") as f:\n",
    "    f.write(code2)\n"
   ]
  }
 ],
 "metadata": {
  "kernelspec": {
   "display_name": "Python 3",
   "language": "python",
   "name": "python3"
  },
  "language_info": {
   "codemirror_mode": {
    "name": "ipython",
    "version": 3
   },
   "file_extension": ".py",
   "mimetype": "text/x-python",
   "name": "python",
   "nbconvert_exporter": "python",
   "pygments_lexer": "ipython3",
   "version": "3.13.2"
  }
 },
 "nbformat": 4,
 "nbformat_minor": 5
}
